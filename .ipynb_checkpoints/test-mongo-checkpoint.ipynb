{
 "cells": [
  {
   "cell_type": "code",
   "execution_count": 1,
   "metadata": {},
   "outputs": [],
   "source": [
    "from pymongo import MongoClient"
   ]
  },
  {
   "cell_type": "code",
   "execution_count": 2,
   "metadata": {},
   "outputs": [],
   "source": [
    "client = MongoClient()"
   ]
  },
  {
   "cell_type": "code",
   "execution_count": 3,
   "metadata": {},
   "outputs": [],
   "source": [
    "db = client['BuildABackend']"
   ]
  },
  {
   "cell_type": "code",
   "execution_count": 16,
   "metadata": {},
   "outputs": [],
   "source": [
    "html_pages = db['html_pages']\n",
    "projects = db['projects']\n",
    "databases = db['databases']"
   ]
  },
  {
   "cell_type": "code",
   "execution_count": 17,
   "metadata": {},
   "outputs": [],
   "source": [
    "print_html_pages()"
   ]
  },
  {
   "cell_type": "code",
   "execution_count": 18,
   "metadata": {},
   "outputs": [],
   "source": [
    "def print_html_pages():\n",
    "    for row in html_pages.find():\n",
    "        print(row)\n",
    "        \n",
    "def print_projects():\n",
    "    for row in projects.find():\n",
    "        print(row)\n",
    "        \n",
    "def print_databases():\n",
    "    for row in databases.find():\n",
    "        print(row)"
   ]
  },
  {
   "cell_type": "code",
   "execution_count": 14,
   "metadata": {},
   "outputs": [],
   "source": [
    "def clear_html_pages():\n",
    "    html_pages.delete_many({})\n",
    "    \n",
    "def clear_databases():\n",
    "    databases.delete_many({})"
   ]
  },
  {
   "cell_type": "code",
   "execution_count": 15,
   "metadata": {},
   "outputs": [],
   "source": [
    "clear_html_pages()"
   ]
  },
  {
   "cell_type": "code",
   "execution_count": 19,
   "metadata": {},
   "outputs": [],
   "source": [
    "print_html_pages()"
   ]
  },
  {
   "cell_type": "code",
   "execution_count": 20,
   "metadata": {},
   "outputs": [
    {
     "name": "stdout",
     "output_type": "stream",
     "text": [
      "{'_id': ObjectId('5da6a1ecd564043e5bab4897'), 'name': 'Test2'}\n"
     ]
    }
   ],
   "source": [
    "print_projects()"
   ]
  },
  {
   "cell_type": "code",
   "execution_count": 23,
   "metadata": {},
   "outputs": [
    {
     "name": "stdout",
     "output_type": "stream",
     "text": [
      "{'_id': ObjectId('5da6a9a4593144f8c3380db0'), 'project_id': '5da6a1ecd564043e5bab4897', 'framework': 'flask', 'collections': ['testcollection1', 'testcollection2']}\n",
      "{'_id': ObjectId('5da6aa1eb8bcda98b2dacc46'), 'project_id': '5da6a1ecd564043e5bab4897', 'framework': 'flask', 'name': 'Test', 'collections': ['test1', 'test2']}\n"
     ]
    }
   ],
   "source": [
    "print_databases()"
   ]
  },
  {
   "cell_type": "code",
   "execution_count": null,
   "metadata": {},
   "outputs": [],
   "source": []
  }
 ],
 "metadata": {
  "kernelspec": {
   "display_name": "Python 3",
   "language": "python",
   "name": "python3"
  },
  "language_info": {
   "codemirror_mode": {
    "name": "ipython",
    "version": 3
   },
   "file_extension": ".py",
   "mimetype": "text/x-python",
   "name": "python",
   "nbconvert_exporter": "python",
   "pygments_lexer": "ipython3",
   "version": "3.7.4"
  }
 },
 "nbformat": 4,
 "nbformat_minor": 2
}
