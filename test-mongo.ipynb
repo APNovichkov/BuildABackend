{
 "cells": [
  {
   "cell_type": "code",
   "execution_count": 1,
   "metadata": {},
   "outputs": [],
   "source": [
    "from pymongo import MongoClient"
   ]
  },
  {
   "cell_type": "code",
   "execution_count": 2,
   "metadata": {},
   "outputs": [],
   "source": [
    "client = MongoClient()"
   ]
  },
  {
   "cell_type": "code",
   "execution_count": 3,
   "metadata": {},
   "outputs": [],
   "source": [
    "db = client['BuildABackend']"
   ]
  },
  {
   "cell_type": "code",
   "execution_count": 63,
   "metadata": {},
   "outputs": [],
   "source": [
    "html_pages = db['html_pages']\n",
    "projects = db['projects']\n",
    "databases = db['databases']\n",
    "routes = db['routes']\n",
    "users = db['users']"
   ]
  },
  {
   "cell_type": "code",
   "execution_count": 30,
   "metadata": {},
   "outputs": [],
   "source": [
    "print_html_pages()"
   ]
  },
  {
   "cell_type": "code",
   "execution_count": 64,
   "metadata": {},
   "outputs": [],
   "source": [
    "def print_html_pages():\n",
    "    for row in html_pages.find():\n",
    "        print(row)\n",
    "        \n",
    "def print_projects():\n",
    "    for row in projects.find():\n",
    "        print(row)\n",
    "        \n",
    "def print_databases():\n",
    "    for row in databases.find():\n",
    "        print(row)\n",
    "        \n",
    "def print_routes():\n",
    "    for row in routes.find():\n",
    "        print(row)\n",
    "        \n",
    "def print_users():\n",
    "    for row in users.find():\n",
    "        print(row)"
   ]
  },
  {
   "cell_type": "code",
   "execution_count": 65,
   "metadata": {},
   "outputs": [],
   "source": [
    "def clear_html_pages():\n",
    "    html_pages.delete_many({})\n",
    "    \n",
    "def clear_databases():\n",
    "    databases.delete_many({})\n",
    "    \n",
    "def clear_routes():\n",
    "    routes.delete_many({})\n",
    "    \n",
    "def clear_projects():\n",
    "    projects.delete_many({})\n",
    "    \n",
    "def clear_users():\n",
    "    users.delete_many({})"
   ]
  },
  {
   "cell_type": "code",
   "execution_count": 115,
   "metadata": {},
   "outputs": [],
   "source": [
    "clear_html_pages()\n",
    "clear_databases()\n",
    "clear_routes()\n",
    "clear_projects()"
   ]
  },
  {
   "cell_type": "code",
   "execution_count": 116,
   "metadata": {},
   "outputs": [],
   "source": [
    "clear_users()"
   ]
  },
  {
   "cell_type": "code",
   "execution_count": 117,
   "metadata": {},
   "outputs": [],
   "source": [
    "print_users()"
   ]
  },
  {
   "cell_type": "code",
   "execution_count": 118,
   "metadata": {},
   "outputs": [],
   "source": [
    "print_html_pages()"
   ]
  },
  {
   "cell_type": "code",
   "execution_count": 119,
   "metadata": {},
   "outputs": [],
   "source": [
    "print_routes()"
   ]
  },
  {
   "cell_type": "code",
   "execution_count": 120,
   "metadata": {},
   "outputs": [],
   "source": [
    "print_projects()"
   ]
  },
  {
   "cell_type": "code",
   "execution_count": 69,
   "metadata": {},
   "outputs": [],
   "source": [
    "print_databases()"
   ]
  },
  {
   "cell_type": "code",
   "execution_count": null,
   "metadata": {},
   "outputs": [],
   "source": [
    "for html_file in html_pages.find({'project_id': ObjectId()}):\n",
    "            html_files_to_create.append(html_file)"
   ]
  },
  {
   "cell_type": "code",
   "execution_count": 43,
   "metadata": {},
   "outputs": [],
   "source": [
    "from datetime import datetime"
   ]
  },
  {
   "cell_type": "code",
   "execution_count": 49,
   "metadata": {},
   "outputs": [
    {
     "name": "stdout",
     "output_type": "stream",
     "text": [
      "22_55_52_538296\n"
     ]
    }
   ],
   "source": [
    "print(str(datetime.now()).split()[1].replace(':','_').replace('.','_'))"
   ]
  },
  {
   "cell_type": "code",
   "execution_count": 62,
   "metadata": {},
   "outputs": [
    {
     "name": "stdout",
     "output_type": "stream",
     "text": [
      "{'_id': ObjectId('5da78b8a7bc5cc7151ad7e3d'), 'project_id': '5da78b5a7bc5cc7151ad7e3b', 'url': '/test', 'http_verb': 'GET', 'action': 'new', 'description': 'test'}\n"
     ]
    }
   ],
   "source": [
    "for row in routes.find({'url': '/test', 'http_verb': 'GET'}):\n",
    "    print(row)"
   ]
  },
  {
   "cell_type": "code",
   "execution_count": null,
   "metadata": {},
   "outputs": [],
   "source": []
  }
 ],
 "metadata": {
  "kernelspec": {
   "display_name": "Python 3",
   "language": "python",
   "name": "python3"
  },
  "language_info": {
   "codemirror_mode": {
    "name": "ipython",
    "version": 3
   },
   "file_extension": ".py",
   "mimetype": "text/x-python",
   "name": "python",
   "nbconvert_exporter": "python",
   "pygments_lexer": "ipython3",
   "version": "3.7.4"
  }
 },
 "nbformat": 4,
 "nbformat_minor": 2
}
