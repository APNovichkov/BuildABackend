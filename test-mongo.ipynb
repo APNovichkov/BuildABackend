{
 "cells": [
  {
   "cell_type": "code",
   "execution_count": 1,
   "metadata": {},
   "outputs": [],
   "source": [
    "from pymongo import MongoClient"
   ]
  },
  {
   "cell_type": "code",
   "execution_count": 2,
   "metadata": {},
   "outputs": [],
   "source": [
    "client = MongoClient()"
   ]
  },
  {
   "cell_type": "code",
   "execution_count": 3,
   "metadata": {},
   "outputs": [],
   "source": [
    "db = client['BuildABackend']"
   ]
  },
  {
   "cell_type": "code",
   "execution_count": 29,
   "metadata": {},
   "outputs": [],
   "source": [
    "html_pages = db['html_pages']\n",
    "projects = db['projects']\n",
    "databases = db['databases']\n",
    "routes = db['routes']"
   ]
  },
  {
   "cell_type": "code",
   "execution_count": 30,
   "metadata": {},
   "outputs": [],
   "source": [
    "print_html_pages()"
   ]
  },
  {
   "cell_type": "code",
   "execution_count": 39,
   "metadata": {},
   "outputs": [],
   "source": [
    "def print_html_pages():\n",
    "    for row in html_pages.find():\n",
    "        print(row)\n",
    "        \n",
    "def print_projects():\n",
    "    for row in projects.find():\n",
    "        print(row)\n",
    "        \n",
    "def print_databases():\n",
    "    for row in databases.find():\n",
    "        print(row)\n",
    "        \n",
    "def print_routes():\n",
    "    for row in routes.find():\n",
    "        print(row)"
   ]
  },
  {
   "cell_type": "code",
   "execution_count": 32,
   "metadata": {},
   "outputs": [],
   "source": [
    "def clear_html_pages():\n",
    "    html_pages.delete_many({})\n",
    "    \n",
    "def clear_databases():\n",
    "    databases.delete_many({})\n",
    "    \n",
    "def clear_routes():\n",
    "    routes.delete_many({})"
   ]
  },
  {
   "cell_type": "code",
   "execution_count": 37,
   "metadata": {},
   "outputs": [],
   "source": [
    "clear_html_pages()\n",
    "clear_databases()\n",
    "clear_routes()"
   ]
  },
  {
   "cell_type": "code",
   "execution_count": 34,
   "metadata": {},
   "outputs": [],
   "source": [
    "print_html_pages()"
   ]
  },
  {
   "cell_type": "code",
   "execution_count": 41,
   "metadata": {},
   "outputs": [
    {
     "name": "stdout",
     "output_type": "stream",
     "text": [
      "{'_id': ObjectId('5da78b8a7bc5cc7151ad7e3d'), 'project_id': '5da78b5a7bc5cc7151ad7e3b', 'url': '/test', 'http_verb': 'GET', 'action': 'new', 'description': 'test'}\n",
      "{'_id': ObjectId('5da78b9e7bc5cc7151ad7e3f'), 'project_id': '5da78b937bc5cc7151ad7e3e', 'url': '/test2', 'http_verb': 'NOPE', 'action': 'yep', 'description': 'oKAYY'}\n"
     ]
    }
   ],
   "source": [
    "print_routes()"
   ]
  },
  {
   "cell_type": "code",
   "execution_count": 35,
   "metadata": {},
   "outputs": [
    {
     "name": "stdout",
     "output_type": "stream",
     "text": [
      "{'_id': ObjectId('5da78ab37bc5cc7151ad7e39'), 'name': 'Test', 'time_created': 'Wed Oct 16 14:25:07 2019', 'last_modified': 'Wed Oct 16 14:25:07 2019'}\n"
     ]
    }
   ],
   "source": [
    "print_projects()"
   ]
  },
  {
   "cell_type": "code",
   "execution_count": 23,
   "metadata": {},
   "outputs": [
    {
     "name": "stdout",
     "output_type": "stream",
     "text": [
      "{'_id': ObjectId('5da6a9a4593144f8c3380db0'), 'project_id': '5da6a1ecd564043e5bab4897', 'framework': 'flask', 'collections': ['testcollection1', 'testcollection2']}\n",
      "{'_id': ObjectId('5da6aa1eb8bcda98b2dacc46'), 'project_id': '5da6a1ecd564043e5bab4897', 'framework': 'flask', 'name': 'Test', 'collections': ['test1', 'test2']}\n"
     ]
    }
   ],
   "source": [
    "print_databases()"
   ]
  },
  {
   "cell_type": "code",
   "execution_count": null,
   "metadata": {},
   "outputs": [],
   "source": [
    "for html_file in html_pages.find({'project_id': ObjectId()}):\n",
    "            html_files_to_create.append(html_file)"
   ]
  },
  {
   "cell_type": "code",
   "execution_count": 43,
   "metadata": {},
   "outputs": [],
   "source": [
    "from datetime import datetime"
   ]
  },
  {
   "cell_type": "code",
   "execution_count": 49,
   "metadata": {},
   "outputs": [
    {
     "name": "stdout",
     "output_type": "stream",
     "text": [
      "22_55_52_538296\n"
     ]
    }
   ],
   "source": [
    "print(str(datetime.now()).split()[1].replace(':','_').replace('.','_'))"
   ]
  },
  {
   "cell_type": "code",
   "execution_count": null,
   "metadata": {},
   "outputs": [],
   "source": []
  }
 ],
 "metadata": {
  "kernelspec": {
   "display_name": "Python 3",
   "language": "python",
   "name": "python3"
  },
  "language_info": {
   "codemirror_mode": {
    "name": "ipython",
    "version": 3
   },
   "file_extension": ".py",
   "mimetype": "text/x-python",
   "name": "python",
   "nbconvert_exporter": "python",
   "pygments_lexer": "ipython3",
   "version": "3.7.4"
  }
 },
 "nbformat": 4,
 "nbformat_minor": 2
}
